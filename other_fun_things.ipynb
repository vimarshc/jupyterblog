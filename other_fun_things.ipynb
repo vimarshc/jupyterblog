{
 "cells": [
  {
   "cell_type": "markdown",
   "metadata": {},
   "source": [
    "## Economics : A Reading List \n",
    "\n",
    "1. [Poor Economics](https://www.amazon.in/Poor-Economics-Radical-Rethinking-Poverty/dp/1610390938)\n",
    "2. [Indian Banks: A Time to Refrom ?](https://faculty.chicagobooth.edu/-/media/faculty/raghuram-rajan/research/papers/paper-on-banking-sector-reforms-rr-va-final.pdf) This paper is authored by the famous Indian Economist Raghuram Rajan. He's talking about the state of govt owned banks in India. The reaons as to why they've been a loss making entity for a very long time and what steps could be taken to mitigate that in the future. "
   ]
  },
  {
   "cell_type": "code",
   "execution_count": null,
   "metadata": {},
   "outputs": [],
   "source": []
  }
 ],
 "metadata": {
  "kernelspec": {
   "display_name": "Python 3",
   "language": "python",
   "name": "python3"
  }
 },
 "nbformat": 4,
 "nbformat_minor": 4
}
