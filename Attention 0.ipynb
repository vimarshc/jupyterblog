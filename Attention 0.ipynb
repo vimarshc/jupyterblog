{
 "cells": [
  {
   "cell_type": "markdown",
   "metadata": {},
   "source": [
    "# What Is this Video Series About? # "
   ]
  },
  {
   "cell_type": "markdown",
   "metadata": {},
   "source": [
    "## Prelims ##\n",
    "1. Can't be your first Deep Learning Tutorial \n",
    "2. Should have trained any neural network in any library (Keras, Pytorch, TensorFlow)\n",
    "    \n",
    "    2.1 Should understand 3D Matrix "
   ]
  },
  {
   "cell_type": "markdown",
   "metadata": {},
   "source": [
    "Topics to Cover: \n",
    "1. Definition and Origins \n",
    "2. Forms of Attention\n",
    "3. Transformers \n",
    "4. hugginface transformers library \n",
    "\n",
    "    4.1 Test out SOTA models in transformers \n",
    "    \n",
    "    4.2 Start going through the source code "
   ]
  },
  {
   "cell_type": "code",
   "execution_count": null,
   "metadata": {},
   "outputs": [],
   "source": []
  }
 ],
 "metadata": {
  "kernelspec": {
   "display_name": "Python 3",
   "language": "python",
   "name": "python3"
  }
 },
 "nbformat": 4,
 "nbformat_minor": 4
}
