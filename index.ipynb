{
 "cells": [
  {
   "cell_type": "markdown",
   "metadata": {},
   "source": [
    "# Jupyter Blog \n",
    "\n",
    "### Hi Everyone! ###\n",
    "\n",
    "I'm Vimarsh. My favourite pastime include reading about economics and governance, playing Cities and Knights and running. I also do research and write code. Since March 2018 I've been using natural language processing to solve problems in the crawling and search pipelines at Naukri. This is supposed to be a repository of all Deep Learning academic papers I've been reading, intuition I've been drawing from them and experiments. \n",
    "\n",
    "\n"
   ]
  },
  {
   "cell_type": "markdown",
   "metadata": {},
   "source": [
    "My long term research goal revolves around creating robust representations for extremly large text.  At a more granular level my research interest include boundry detection and concept identification in text, recurrence in Transformers and modular methods like RRNs.\n",
    "\n",
    "I spent a summer volunteering with as a Math and English teacher with Don Bosco School. \n",
    "\n",
    "This blog includes documentations regarding all the experiments I do, notes regarding the intuition of different academic papers and how they can be used."
   ]
  },
  {
   "cell_type": "code",
   "execution_count": null,
   "metadata": {},
   "outputs": [],
   "source": []
  }
 ],
 "metadata": {
  "kernelspec": {
   "display_name": "Python 3",
   "language": "python",
   "name": "python3"
  }
 },
 "nbformat": 4,
 "nbformat_minor": 2
}
