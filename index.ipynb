{
 "cells": [
  {
   "cell_type": "markdown",
   "metadata": {},
   "source": [
    "# Jupyter Blog \n",
    "\n"
   ]
  },
  {
   "cell_type": "markdown",
   "metadata": {},
   "source": [
    "### Hi Everyone! ###\n",
    "\n",
    "I'm Vimarsh. My favourite pastime include reading about economics, playing Cities and Knights and running. I also do research and write code. Since March 2018 I've been using natural language processing to solve problems in the crawling and search pipelines at [Naukri](https://naukri.com). Naukri is India's largest job portal. Among other things Naukri caters to 20 million searches per week. This is supposed to be a repository of all Deep Learning academic papers I've been reading, intuition I've been drawing from them and experiments. This blog is relatively new so even though I've been tinkering with idea for some time I think I'll take some time to implement all ideas / write up all things I want to write up. \n"
   ]
  },
  {
   "cell_type": "markdown",
   "metadata": {},
   "source": [
    "The idea of this blog came from the fact that I wanted to write blog posts in Jupyter Notebooks. I found that it perfectly encapsulated the blend of code and description that I wanted to achieve. I wanted to be able to write things. I'm used the wonderful nbdev module where I can write blog posts in Jupyter Notebooks and it gets automatically converted into a webiste. "
   ]
  },
  {
   "cell_type": "markdown",
   "metadata": {},
   "source": [
    "My long term research goal revolves around creating robust representations for extremly large text.  At a more granular level my research interest include boundry detection and concept identification in text, recurrence in Transformers and modular methods like RRNs.\n",
    "\n",
    "I spent a summer volunteering with as a Math and English teacher with Don Bosco School. \n"
   ]
  },
  {
   "cell_type": "code",
   "execution_count": null,
   "metadata": {},
   "outputs": [],
   "source": []
  }
 ],
 "metadata": {
  "kernelspec": {
   "display_name": "Python 3",
   "language": "python",
   "name": "python3"
  }
 },
 "nbformat": 4,
 "nbformat_minor": 2
}
