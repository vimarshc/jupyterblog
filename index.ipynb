{
 "cells": [
  {
   "cell_type": "code",
   "execution_count": null,
   "metadata": {},
   "outputs": [],
   "source": [
    "#hide\n",
    "from jupyterblog.core import *"
   ]
  },
  {
   "cell_type": "markdown",
   "metadata": {},
   "source": [
    "# Jupyter Blog \n",
    "\n",
    "### Hi Everyone! ###\n",
    "\n",
    "> I'm Vimarsh. My favourite pastime include reading about economics and governance, playing Cities and Knights and running. I also do research and write code. Since March 2018 I've been using natural language processing to solve problems in the crawling and search pipelines at Naukri. This is supposed to be a repository of all Deep Learning academic papers I've been reading, intuition I've been drawing from them and experiments. \n",
    "\n",
    "> One of the major objectives of this blog is to have a solution for a frustration I've been dealing with. I feel like knowledge about Deep Learning is so fragmented on the internet. I'm by no means an expert and the amount of trouble I face to see one paper in action, or try to chip away at the core of one model is quite high. After working for 2 years dealing with NLP problems one learning that stands above over all is things in machine learning / deep learning whatever you wanna call it, NEED TO BE EASY. So, this blog is my attempt to form a repository where knowledge is continous and things are easy.\n",
    "\n",
    "> My long term goal revolves around how to create representations for extremly large text.  At a more granular level my research interest include boundry and concept identification in text, recurrence in Transformers and modular methods like RRNs.\n",
    "\n",
    "> I spent a summer volunteering with as a Math and English teacher with Don Bosco School. \n",
    "\n",
    "> This blog includes documentations regarding all the experiments I do, notes regarding the intuition of different academic papers and how they can be used.  \n"
   ]
  },
  {
   "cell_type": "code",
   "execution_count": null,
   "metadata": {},
   "outputs": [
    {
     "data": {
      "text/plain": [
       "2"
      ]
     },
     "execution_count": null,
     "metadata": {},
     "output_type": "execute_result"
    }
   ],
   "source": []
  },
  {
   "cell_type": "code",
   "execution_count": null,
   "metadata": {},
   "outputs": [],
   "source": []
  }
 ],
 "metadata": {
  "kernelspec": {
   "display_name": "Python 3",
   "language": "python",
   "name": "python3"
  }
 },
 "nbformat": 4,
 "nbformat_minor": 2
}
