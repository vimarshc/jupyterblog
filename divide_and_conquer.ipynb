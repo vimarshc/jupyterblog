{
 "cells": [
  {
   "cell_type": "markdown",
   "metadata": {},
   "source": [
    "# divide_and_conquer"
   ]
  },
  {
   "cell_type": "markdown",
   "metadata": {},
   "source": [
    "The basic idea is "
   ]
  },
  {
   "cell_type": "code",
   "execution_count": null,
   "metadata": {},
   "outputs": [],
   "source": [
    "x = [\"jobCrawlerId\",\"jobId\",\"jobFile\",\"jobCompanyId\",\"jobPost\",\"jobComName\",\"jobComProfLen\",\"jobDesc\",\"jobDescLen\",\"jobCandProfLen\",\"jobMinExp\",\"jobMaxExp\",\"expPredicted\",\"jobCountry\",\"jobCity\",\"jobOtherLoc\",\"jobMinCtc\",\"jobMaxCtc\",\"ctcPredicted\",\"jobWebsite\",\"jobSitePostedDate\",\"jobConsultant\",\"crawlerAddDate\",\"jobTimeStamp\",\"jobRowUpdatedDate\",\"jobIndtype\",\"jobOIndtype\",\"jobFarea\",\"jobOFarea\",\"jobRole\",\"jobORole\",\"jobKeywords\",\"jobGradCourse\",\"jobGradSpec\",\"jobPgCourse\",\"jobPgSpec\",\"jobPpgCourse\",\"jobPpgSpec\",\"jobSelAddress\",\"jobSelCityIds\",\"domain\",\"closedate\",\"jobRefNo\",\"jobCurrencySal\",\"jobDuplicateStatus\",\"jobPostingType\",\"crawlerType\",\"crawlerId\",\"substatus\"]"
   ]
  },
  {
   "cell_type": "code",
   "execution_count": null,
   "metadata": {},
   "outputs": [
    {
     "data": {
      "text/plain": [
       "'crawlerType'"
      ]
     },
     "execution_count": null,
     "metadata": {},
     "output_type": "execute_result"
    }
   ],
   "source": [
    "x[-3]"
   ]
  },
  {
   "cell_type": "code",
   "execution_count": null,
   "metadata": {},
   "outputs": [
    {
     "data": {
      "text/plain": [
       "49"
      ]
     },
     "execution_count": null,
     "metadata": {},
     "output_type": "execute_result"
    }
   ],
   "source": [
    "len(x)"
   ]
  },
  {
   "cell_type": "code",
   "execution_count": null,
   "metadata": {},
   "outputs": [],
   "source": []
  }
 ],
 "metadata": {
  "kernelspec": {
   "display_name": "Python 3",
   "language": "python",
   "name": "python3"
  }
 },
 "nbformat": 4,
 "nbformat_minor": 4
}
