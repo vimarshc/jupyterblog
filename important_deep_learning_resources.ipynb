{
 "cells": [
  {
   "cell_type": "markdown",
   "metadata": {},
   "source": [
    "# Important Deep Learning Resources\n"
   ]
  },
  {
   "cell_type": "markdown",
   "metadata": {},
   "source": [
    "\n",
    "This is a list of resources covering both theoretical aspects of Deep Learning that I believe are really imporant and changed the way I think about the subject: \n",
    "\n",
    "1. [FastAI](https://www.fast.ai/): The founder of FastAI [Jeremy Howard](https://twitter.com/jeremyphoward) has developed a [library](https://github.com/fastai/fastai/) intended to make coding deep learning models easy. Working as a data scientist I believe things *Need* to be EASY. Usually writing code in PyTorch (or any other library) leads to ugly not-simple looking code. There's a course on Youtube that I *cannot* reccomend highly enough.\n",
    "\n",
    "2. [Essence of Linear Algebra](https://www.youtube.com/watch?v=kjBOesZCoqc&list=PL0-GT3co4r2y2YErbmuJw2L5tW4Ew2O5B): This channel is an absolute gem for mathematics nerds. But, this is a mini course on Linear Algebra. The building block of Deep Learning is *matrix multiplication*. What this course offers which I did not find anywhere if the visualisation that goes along with matrix multiplication. This course covers the basic ideas in Linear Algebra but also shows what that means visually. This helps in giving such a deeper understanding as to what's going on in vectors and neural networks. \n",
    "\n",
    "3. [Neural Networks, Manifolds, and Topology](https://colah.github.io/posts/2014-03-NN-Manifolds-Topology/): This resource goes hand in hand with the `Essence of Linear Algebra` resource. This blog post kind of builds on top of the knowledge obtained from it. Helps you visualise what we're trying to achieve when we're using NNs for classification. "
   ]
  },
  {
   "cell_type": "code",
   "execution_count": null,
   "metadata": {},
   "outputs": [],
   "source": []
  }
 ],
 "metadata": {
  "kernelspec": {
   "display_name": "Python 3",
   "language": "python",
   "name": "python3"
  }
 },
 "nbformat": 4,
 "nbformat_minor": 4
}
