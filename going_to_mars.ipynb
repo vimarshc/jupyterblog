{
 "cells": [
  {
   "cell_type": "markdown",
   "metadata": {},
   "source": [
    "# Going to Mars # "
   ]
  },
  {
   "cell_type": "markdown",
   "metadata": {},
   "source": [
    "## Introduction ## \n",
    "This is just a thought experiment I stumbled upon. Given that we're (we as a species) currently in the process developing technologies to get to Mars I started wondering what our lives would look like. I'm not talking about the technologial challenges that we need to overcome but what the first village / town would look like on Mars. "
   ]
  },
  {
   "cell_type": "markdown",
   "metadata": {},
   "source": [
    "## Economics ## \n",
    "Given we (humans) are social beings. I believe economics is a natural consequence of us setting up a civilization. Going to mars we'll be streamlining a lot of processes; this is where a lot of technological advancements will need to come in. The thought experiment led to the question: what will the first jobs look like? \n",
    "\n",
    "To start off: \n",
    "1. Agriculture: Think we will absolutely need Hydroponic farmers. Unless we can reach a stage where we can use the soil on Mars I we'd be using artifical minerals and water to grow and sell the food. Further, historically agriculture is the first art humans have had to master so I believe any civilization that takes root will start off with agricultre at its core. \n",
    "\n",
    "2. Water: If we take a look at history again, civilization has always been established near water. The number of examples of philosophers and scientists talking about how a city was established near a water body is endless. But, Mars for now has no water and unless we drop Nuclear bombs on Mars (Elon Musk's proposal) we're not gonna have naturally occuring water on that planet. Now, even though I believe trade will develop over the course of time I believe essential commodities will be controlled by a governing body. `The Government of Mars` that is. \n",
    "\n",
    "    I think an interesting idea is developing an artifical water cycle. Water as we know on earth is part of a continous cycle. The question is can we create an artificial cycle. A small scale example is a plant in a glass container. If I understand things correctly, a plant in a glass container is a self sufficient ecosystem. \n",
    "    \n",
    "3. Air: Similar to Water the only solution I can think of is developing a self-sufficient cycle (Enter Aforrestation).\n",
    "\n",
    "The Economics\n",
    "--------------\n",
    "\n",
    "The most sucessful economic models is a government providing a platform for trade. For example, the FinTech industry in India. I think Air and Water on Mars will have to be part of a platform a governing body will provide. \n",
    "\n",
    "\n",
    "\n",
    "Note\n",
    "--------\n",
    "These are just some random thougts I had. They're not supposed to be a `finished` product by any stretch of imagination. But I wanted to note them down somewhere because I think they're an interesting seed. "
   ]
  },
  {
   "cell_type": "code",
   "execution_count": null,
   "metadata": {},
   "outputs": [],
   "source": []
  }
 ],
 "metadata": {
  "kernelspec": {
   "display_name": "Python 3",
   "language": "python",
   "name": "python3"
  }
 },
 "nbformat": 4,
 "nbformat_minor": 4
}
