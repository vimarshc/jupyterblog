{
 "cells": [
  {
   "cell_type": "markdown",
   "metadata": {},
   "source": [
    "## Economics : A Reading List \n",
    "\n",
    "1. [Poor Economics](https://www.amazon.in/Poor-Economics-Radical-Rethinking-Poverty/dp/1610390938)\n",
    "2. [Indian Banks: A Time to Refrom ?](https://faculty.chicagobooth.edu/-/media/faculty/raghuram-rajan/research/papers/paper-on-banking-sector-reforms-rr-va-final.pdf) This paper is authored by the famous Indian Economist Raghuram Rajan. He's talking about the state of govt owned banks in India. The reaons as to why they've been a loss making entity for a very long time and what steps could be taken to mitigate that in the future. \n",
    "3. [Wealth of Nations](https://www.britannica.com/biography/Adam-Smith/The-Wealth-of-Nations) I've read a few chapters from this book. The author doesn't use language that is out of reach of anyone who knows English but `Boy this Book is Heavy`. Now, before I'm \"categorized\" I don't think Adam Smith was a corporate loving, government hating billionare and neither am I. I think he was just noting how early trade was developing and noted down a few thoughts and I've enjoyed reading some of those thoughts. \n",
    "\n",
    "4. The Intelligent Investor: I like the idea of deplying capital wisely. I do like the innocence with which Warren Buffet talks about things. This book will feel very very dry if this is the first book you're reading a about investing but develops over time. \n",
    "\n",
    "5. [The Little Book of Common Sense Investing](https://www.amazon.com/Little-Book-Common-Sense-Investing/dp/1119404509): As John Bogle will put it this is the only book you really need to invest for your future. \n",
    "\n"
   ]
  },
  {
   "cell_type": "code",
   "execution_count": null,
   "metadata": {},
   "outputs": [],
   "source": []
  }
 ],
 "metadata": {
  "kernelspec": {
   "display_name": "Python 3",
   "language": "python",
   "name": "python3"
  }
 },
 "nbformat": 4,
 "nbformat_minor": 4
}
